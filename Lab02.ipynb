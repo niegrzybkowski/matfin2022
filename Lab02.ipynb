{
 "cells": [
  {
   "cell_type": "code",
   "execution_count": null,
   "id": "8367f46c",
   "metadata": {},
   "outputs": [],
   "source": [
    "from random import gauss\n",
    "from scipy.stats import expon\n",
    "import numpy as np\n",
    "import matplotlib.pyplot as plt"
   ]
  },
  {
   "cell_type": "markdown",
   "id": "a57170d7",
   "metadata": {},
   "source": [
    "# Zad 1"
   ]
  },
  {
   "cell_type": "code",
   "execution_count": null,
   "id": "12821529",
   "metadata": {},
   "outputs": [],
   "source": [
    "def pois_trajectory(l, n_jumps):\n",
    "    return np.cumsum(expon.rvs(l, size=n_jumps))\n",
    "\n",
    "def plot_pois_trajectory(l, n_jumps):\n",
    "    jump_times = pois_trajectory(l, n_jumps)\n",
    "    jump_times = np.repeat(jump_times, 2)\n",
    "    jump_times = np.concatenate(([0.], jump_times[:-1]))\n",
    "    \n",
    "    jump_heights = np.array(range(n_jumps))\n",
    "    jump_heights = np.repeat(jump_heights, 2)\n",
    "    \n",
    "    plt.plot(jump_times, jump_heights)\n",
    "    plt.title(\"Poisson Process Trajectory\")\n",
    "    plt.legend([f\"λ={l}, {n_jumps} jumps\"])"
   ]
  },
  {
   "cell_type": "code",
   "execution_count": null,
   "id": "36a16214",
   "metadata": {},
   "outputs": [],
   "source": [
    "plot_pois_trajectory(0.5, 10)\n",
    "plt.show()"
   ]
  },
  {
   "cell_type": "code",
   "execution_count": null,
   "id": "63722884",
   "metadata": {},
   "outputs": [],
   "source": [
    "plot_pois_trajectory(0.5, 25)\n",
    "plt.show()"
   ]
  },
  {
   "cell_type": "markdown",
   "id": "23dca20e",
   "metadata": {},
   "source": [
    "# Zad 2"
   ]
  },
  {
   "cell_type": "code",
   "execution_count": null,
   "id": "db209d66",
   "metadata": {},
   "outputs": [],
   "source": [
    "def wiener_trajectory_simple(step, samples):\n",
    "    return np.cumsum(np.sqrt(step) * np.random.normal(size=samples))\n",
    "\n",
    "def wiener_with_linspace(from_t, to_t, samples):\n",
    "    space, step = np.linspace(from_t, to_t, samples, retstep=True)\n",
    "    return space, wiener_trajectory_simple(step, samples)"
   ]
  },
  {
   "cell_type": "code",
   "execution_count": null,
   "id": "9b56579e",
   "metadata": {},
   "outputs": [],
   "source": [
    "plt.plot(*wiener_with_linspace(0.0, 1.0, 1000))\n",
    "plt.show()"
   ]
  },
  {
   "cell_type": "code",
   "execution_count": null,
   "id": "5c227f58",
   "metadata": {},
   "outputs": [],
   "source": [
    "#todo: cholesky"
   ]
  },
  {
   "cell_type": "markdown",
   "id": "da63db52",
   "metadata": {},
   "source": [
    "# Zad3"
   ]
  },
  {
   "cell_type": "code",
   "execution_count": null,
   "id": "230d38c9",
   "metadata": {},
   "outputs": [],
   "source": [
    "def wiener_trajectory_multidim(dim, *args, **kwargs):\n",
    "    return (wiener_trajectory_simple(*args, **kwargs) for _ in range(dim))"
   ]
  },
  {
   "cell_type": "code",
   "execution_count": null,
   "id": "e472d972",
   "metadata": {},
   "outputs": [],
   "source": [
    "plt.plot(*wiener_trajectory_multidim(2, step=0.01, samples=1000))\n",
    "plt.show()"
   ]
  },
  {
   "cell_type": "code",
   "execution_count": null,
   "id": "fc95d00e",
   "metadata": {},
   "outputs": [],
   "source": [
    "plt.plot(*wiener_trajectory_multidim(2, step=0.001, samples=100_000))\n",
    "plt.show()"
   ]
  },
  {
   "cell_type": "code",
   "execution_count": null,
   "id": "ca97efcd",
   "metadata": {},
   "outputs": [],
   "source": [
    "sample_count = 1000\n",
    "w_x, w_y = wiener_trajectory_multidim(2, step=0.001, samples=sample_count)\n",
    "\n",
    "%matplotlib notebook\n",
    "from matplotlib import animation\n",
    "\n",
    "fig = plt.figure()\n",
    "ax = plt.axes(xlim=(-2, 2), ylim=(-2, 2))\n",
    "line, = ax.plot([], [], lw=2)\n",
    "\n",
    "def show_first_n(n):\n",
    "    line.set_data(w_x[:n], w_y[:n])\n",
    "    return line,\n",
    "\n",
    "anim = animation.FuncAnimation(fig, show_first_n, frames=sample_count, interval=10, blit=True)\n",
    "\n",
    "plt.show()"
   ]
  },
  {
   "cell_type": "code",
   "execution_count": null,
   "id": "b7c4f2d4",
   "metadata": {},
   "outputs": [],
   "source": [
    "fig = plt.figure()\n",
    "ax = plt.axes(xlim=(-2, 2), ylim=(-2, 2))\n",
    "sc = ax.scatter([0],[0])\n",
    "\n",
    "def show_nth(n):\n",
    "    sc.set_offsets(\n",
    "        np.hstack(([w_x[n]], [w_y[n]]))\n",
    "    )\n",
    "    return sc, \n",
    "    \n",
    "anim = animation.FuncAnimation(fig, show_nth, frames=sample_count, interval=10, blit=True)\n",
    "\n",
    "plt.show()"
   ]
  },
  {
   "cell_type": "code",
   "execution_count": null,
   "id": "c76acaea",
   "metadata": {},
   "outputs": [],
   "source": [
    "fig = plt.figure()\n",
    "ax = plt.axes(xlim=(-2, 2), ylim=(-2, 2))\n",
    "line, = ax.plot([], [], lw=2)\n",
    "\n",
    "tail_len = 20\n",
    "\n",
    "def show_tail(n):\n",
    "    start = max(n-tail_len, 0)\n",
    "    line.set_data(w_x[start:n], w_y[start:n])\n",
    "    return line,\n",
    "\n",
    "sc = ax.scatter([0],[0])\n",
    "\n",
    "def show_nth(n):\n",
    "    sc.set_offsets(\n",
    "        np.hstack(([w_x[n]], [w_y[n]]))\n",
    "    )\n",
    "    return sc, \n",
    "\n",
    "def show_tail_and_dot(n):\n",
    "    return show_tail(n), show_nth(n)\n",
    "\n",
    "\n",
    "anim = animation.FuncAnimation(fig, show_tail_and_dot, frames=sample_count, interval=10, blit=True)\n",
    "plt.show()"
   ]
  },
  {
   "cell_type": "markdown",
   "id": "94979bb0",
   "metadata": {},
   "source": [
    "# Zad 4"
   ]
  },
  {
   "cell_type": "code",
   "execution_count": null,
   "id": "e071f7ae",
   "metadata": {},
   "outputs": [],
   "source": [
    "# todo: teoria"
   ]
  },
  {
   "cell_type": "code",
   "execution_count": null,
   "id": "dd46dbac",
   "metadata": {},
   "outputs": [],
   "source": [
    "%matplotlib inline"
   ]
  },
  {
   "cell_type": "code",
   "execution_count": null,
   "id": "be41766d",
   "metadata": {},
   "outputs": [],
   "source": [
    "def wiener_trajectory_2d_correlated(step, samples, correlation):\n",
    "    w1, w2 = wiener_trajectory_multidim(2, step, samples)\n",
    "    return w1, w1*correlation + np.sqrt(1-correlation*correlation) * w2"
   ]
  },
  {
   "cell_type": "code",
   "execution_count": null,
   "id": "149b0f74",
   "metadata": {},
   "outputs": [],
   "source": [
    "plt.plot(*wiener_trajectory_2d_correlated(0.001, 10_000, 0.5), zorder=1)\n",
    "plt.scatter([0], [0], color=\"red\", zorder=2)\n",
    "plt.show()"
   ]
  },
  {
   "cell_type": "code",
   "execution_count": null,
   "id": "0766d1e4",
   "metadata": {},
   "outputs": [],
   "source": [
    "plt.plot(*wiener_trajectory_2d_correlated(0.001, 10_000, 0.95), zorder=1)\n",
    "plt.scatter([0], [0], color=\"red\", zorder=2)\n",
    "plt.show()"
   ]
  },
  {
   "cell_type": "markdown",
   "id": "7d599243",
   "metadata": {},
   "source": [
    "# Zad 5"
   ]
  },
  {
   "cell_type": "code",
   "execution_count": 5,
   "id": "f94d3ed0",
   "metadata": {},
   "outputs": [],
   "source": [
    "variates_count = 1_000_000"
   ]
  },
  {
   "cell_type": "code",
   "execution_count": 45,
   "id": "6b4d1b0b",
   "metadata": {},
   "outputs": [],
   "source": [
    "from numba import njit\n",
    "from random import random as uniform, seed as seed_rng, randint\n",
    "\n",
    "def some_seed():\n",
    "    return randint(-1_000_000, 1_000_000)\n",
    "\n",
    "@njit\n",
    "def mpwl_rvs(n):\n",
    "    n1 = n + 1\n",
    "    n2 = 2*np.sqrt(n1 * n1 * n1)\n",
    "    n3 = 1/n2\n",
    "    \n",
    "    u = uniform()\n",
    "    if u <= n3:\n",
    "        return -n1\n",
    "    elif u <= 2*n3:\n",
    "        return n1\n",
    "    else:\n",
    "        return 0\n",
    "    \n",
    "@njit\n",
    "def mpwl_cum_rvs(limit, seed=123):\n",
    "    seed_rng(seed) # uwaga: numba ma thread-local seedy i czasami nie chce się zaseedować prawidłowo\n",
    "    arr = np.zeros(limit)\n",
    "    cum = 0\n",
    "    for i in range(1, limit):\n",
    "        cum += mpwl_rvs(i)\n",
    "        arr[i] = float(cum) / float(i)\n",
    "    return arr\n",
    "    "
   ]
  },
  {
   "cell_type": "code",
   "execution_count": 56,
   "id": "198d0bb1",
   "metadata": {},
   "outputs": [
    {
     "name": "stdout",
     "output_type": "stream",
     "text": [
      "428 ms ± 6 ms per loop (mean ± std. dev. of 7 runs, 1 loop each)\n"
     ]
    }
   ],
   "source": [
    "%%timeit\n",
    "np.cumsum(\n",
    "    np.array(\n",
    "        [mpwl_rvs(i) for i in range(1, variates_count)])\n",
    ") / np.array([i for i in range(1, variates_count)])"
   ]
  },
  {
   "cell_type": "code",
   "execution_count": 49,
   "id": "2670dc00",
   "metadata": {},
   "outputs": [
    {
     "name": "stdout",
     "output_type": "stream",
     "text": [
      "34.7 ms ± 311 µs per loop (mean ± std. dev. of 7 runs, 10 loops each)\n"
     ]
    }
   ],
   "source": [
    "%%timeit\n",
    "mpwl_cum_rvs(variates_count, seed=some_seed())"
   ]
  },
  {
   "cell_type": "code",
   "execution_count": 81,
   "id": "0dd06d26",
   "metadata": {
    "scrolled": true
   },
   "outputs": [
    {
     "data": {
      "image/png": "[encoded data removed]",
      "text/plain": [
       "<Figure size 432x288 with 1 Axes>"
      ]
     },
     "metadata": {
      "needs_background": "light"
     },
     "output_type": "display_data"
    }
   ],
   "source": [
    "plt.plot(mpwl_cum_rvs(100, seed=some_seed()))\n",
    "plt.show()"
   ]
  },
  {
   "cell_type": "code",
   "execution_count": null,
   "id": "c946e4cf",
   "metadata": {
    "scrolled": true
   },
   "outputs": [],
   "source": [
    "for _ in range(10):\n",
    "    plt.plot(mpwl_cum_rvs(variates_count, seed=some_seed()))\n",
    "plt.plot([0, variates_count], [0, 0], color=\"black\", lw=5)\n",
    "plt.xlim(0, 100)\n",
    "plt.show()"
   ]
  },
  {
   "cell_type": "code",
   "execution_count": 50,
   "id": "798560be",
   "metadata": {},
   "outputs": [
    {
     "data": {
      "image/png": "[encoded data removed]",
      "text/plain": [
       "<Figure size 432x288 with 1 Axes>"
      ]
     },
     "metadata": {
      "needs_background": "light"
     },
     "output_type": "display_data"
    }
   ],
   "source": [
    "for _ in range(10):\n",
    "    plt.plot(mpwl_cum_rvs(variates_count, seed=some_seed()))\n",
    "plt.show()"
   ]
  },
  {
   "cell_type": "code",
   "execution_count": null,
   "id": "84337b4c",
   "metadata": {},
   "outputs": [],
   "source": [
    "@njit\n",
    "def spwl_rvs(n):\n",
    "    n1 = n + 1\n",
    "    n2 = 2*n1*np.log(n1) # ? div/0\n",
    "    n3 = 1/n2 \n",
    "    \n",
    "    u = uniform()\n",
    "    if u <= n3:\n",
    "        return -n1\n",
    "    elif u <= 2*n3:\n",
    "        return n1\n",
    "    else:\n",
    "        return 0"
   ]
  },
  {
   "cell_type": "code",
   "execution_count": null,
   "id": "99c8ac69",
   "metadata": {},
   "outputs": [],
   "source": [
    "for _ in range(10):\n",
    "    plt.plot(np.cumsum([spwl_rvs(i) for i in range(1, variates_count)]) /\n",
    "             np.array([i for i in range(1, variates_count)]))\n",
    "plt.show()"
   ]
  },
  {
   "cell_type": "code",
   "execution_count": null,
   "id": "fa2cd330",
   "metadata": {},
   "outputs": [],
   "source": []
  },
  {
   "cell_type": "code",
   "execution_count": null,
   "id": "887bf5a7",
   "metadata": {},
   "outputs": [],
   "source": []
  }
 ],
 "metadata": {
  "kernelspec": {
   "display_name": "Python 3 (ipykernel)",
   "language": "python",
   "name": "python3"
  },
  "language_info": {
   "codemirror_mode": {
    "name": "ipython",
    "version": 3
   },
   "file_extension": ".py",
   "mimetype": "text/x-python",
   "name": "python",
   "nbconvert_exporter": "python",
   "pygments_lexer": "ipython3",
   "version": "3.9.7"
  }
 },
 "nbformat": 4,
 "nbformat_minor": 5
}
